{
 "cells": [
  {
   "cell_type": "code",
   "execution_count": 2,
   "metadata": {},
   "outputs": [
    {
     "name": "stdout",
     "output_type": "stream",
     "text": [
      "Requirement already satisfied: pyspark in c:\\users\\hp\\appdata\\local\\programs\\python\\python310\\lib\\site-packages (3.5.1)\n",
      "Requirement already satisfied: py4j==0.10.9.7 in c:\\users\\hp\\appdata\\local\\programs\\python\\python310\\lib\\site-packages (from pyspark) (0.10.9.7)\n",
      "Note: you may need to restart the kernel to use updated packages.\n"
     ]
    },
    {
     "name": "stderr",
     "output_type": "stream",
     "text": [
      "\n",
      "[notice] A new release of pip is available: 24.0 -> 24.1.1\n",
      "[notice] To update, run: python.exe -m pip install --upgrade pip\n"
     ]
    }
   ],
   "source": [
    "pip install pyspark"
   ]
  },
  {
   "cell_type": "code",
   "execution_count": 15,
   "metadata": {},
   "outputs": [
    {
     "name": "stdout",
     "output_type": "stream",
     "text": [
      "Requirement already satisfied: snowflake-connector-python in c:\\users\\hp\\appdata\\local\\programs\\python\\python310\\lib\\site-packages (3.11.0)\n",
      "Requirement already satisfied: asn1crypto<2.0.0,>0.24.0 in c:\\users\\hp\\appdata\\local\\programs\\python\\python310\\lib\\site-packages (from snowflake-connector-python) (1.5.1)\n",
      "Requirement already satisfied: cffi<2.0.0,>=1.9 in c:\\users\\hp\\appdata\\local\\programs\\python\\python310\\lib\\site-packages (from snowflake-connector-python) (1.15.0)\n",
      "Requirement already satisfied: cryptography<43.0.0,>=3.1.0 in c:\\users\\hp\\appdata\\local\\programs\\python\\python310\\lib\\site-packages (from snowflake-connector-python) (42.0.8)\n",
      "Requirement already satisfied: pyOpenSSL<25.0.0,>=16.2.0 in c:\\users\\hp\\appdata\\local\\programs\\python\\python310\\lib\\site-packages (from snowflake-connector-python) (24.1.0)\n",
      "Requirement already satisfied: pyjwt<3.0.0 in c:\\users\\hp\\appdata\\local\\programs\\python\\python310\\lib\\site-packages (from snowflake-connector-python) (2.8.0)\n",
      "Requirement already satisfied: pytz in c:\\users\\hp\\appdata\\local\\programs\\python\\python310\\lib\\site-packages (from snowflake-connector-python) (2023.3.post1)\n",
      "Requirement already satisfied: requests<3.0.0 in c:\\users\\hp\\appdata\\local\\programs\\python\\python310\\lib\\site-packages (from snowflake-connector-python) (2.31.0)\n",
      "Requirement already satisfied: packaging in c:\\users\\hp\\appdata\\local\\programs\\python\\python310\\lib\\site-packages (from snowflake-connector-python) (21.3)\n",
      "Requirement already satisfied: charset-normalizer<4,>=2 in c:\\users\\hp\\appdata\\local\\programs\\python\\python310\\lib\\site-packages (from snowflake-connector-python) (3.3.2)\n",
      "Requirement already satisfied: idna<4,>=2.5 in c:\\users\\hp\\appdata\\local\\programs\\python\\python310\\lib\\site-packages (from snowflake-connector-python) (3.6)\n",
      "Requirement already satisfied: certifi>=2017.4.17 in c:\\users\\hp\\appdata\\local\\programs\\python\\python310\\lib\\site-packages (from snowflake-connector-python) (2023.11.17)\n",
      "Requirement already satisfied: typing-extensions<5,>=4.3 in c:\\users\\hp\\appdata\\local\\programs\\python\\python310\\lib\\site-packages (from snowflake-connector-python) (4.9.0)\n",
      "Requirement already satisfied: filelock<4,>=3.5 in c:\\users\\hp\\appdata\\local\\programs\\python\\python310\\lib\\site-packages (from snowflake-connector-python) (3.14.0)\n",
      "Requirement already satisfied: sortedcontainers>=2.4.0 in c:\\users\\hp\\appdata\\local\\programs\\python\\python310\\lib\\site-packages (from snowflake-connector-python) (2.4.0)\n",
      "Requirement already satisfied: platformdirs<5.0.0,>=2.6.0 in c:\\users\\hp\\appdata\\local\\programs\\python\\python310\\lib\\site-packages (from snowflake-connector-python) (4.2.2)\n",
      "Requirement already satisfied: tomlkit in c:\\users\\hp\\appdata\\local\\programs\\python\\python310\\lib\\site-packages (from snowflake-connector-python) (0.12.5)\n",
      "Requirement already satisfied: pycparser in c:\\users\\hp\\appdata\\local\\programs\\python\\python310\\lib\\site-packages (from cffi<2.0.0,>=1.9->snowflake-connector-python) (2.21)\n",
      "Requirement already satisfied: urllib3<3,>=1.21.1 in c:\\users\\hp\\appdata\\local\\programs\\python\\python310\\lib\\site-packages (from requests<3.0.0->snowflake-connector-python) (2.1.0)\n",
      "Requirement already satisfied: pyparsing!=3.0.5,>=2.0.2 in c:\\users\\hp\\appdata\\local\\programs\\python\\python310\\lib\\site-packages (from packaging->snowflake-connector-python) (3.0.6)\n",
      "Note: you may need to restart the kernel to use updated packages.\n"
     ]
    },
    {
     "name": "stderr",
     "output_type": "stream",
     "text": [
      "\n",
      "[notice] A new release of pip is available: 24.0 -> 24.1.1\n",
      "[notice] To update, run: python.exe -m pip install --upgrade pip\n"
     ]
    }
   ],
   "source": [
    "pip install snowflake-connector-python\n"
   ]
  },
  {
   "cell_type": "code",
   "execution_count": 7,
   "metadata": {},
   "outputs": [
    {
     "name": "stdout",
     "output_type": "stream",
     "text": [
      "Collecting snowflake-sqlalchemy\n",
      "  Downloading snowflake_sqlalchemy-1.5.3-py3-none-any.whl.metadata (20 kB)\n",
      "Requirement already satisfied: snowflake-connector-python<4.0.0 in c:\\users\\hp\\appdata\\local\\programs\\python\\python310\\lib\\site-packages (from snowflake-sqlalchemy) (3.11.0)\n",
      "Collecting sqlalchemy<2.0.0,>=1.4.19 (from snowflake-sqlalchemy)\n",
      "  Downloading SQLAlchemy-1.4.52-cp310-cp310-win_amd64.whl.metadata (10 kB)\n",
      "Requirement already satisfied: asn1crypto<2.0.0,>0.24.0 in c:\\users\\hp\\appdata\\local\\programs\\python\\python310\\lib\\site-packages (from snowflake-connector-python<4.0.0->snowflake-sqlalchemy) (1.5.1)\n",
      "Requirement already satisfied: cffi<2.0.0,>=1.9 in c:\\users\\hp\\appdata\\local\\programs\\python\\python310\\lib\\site-packages (from snowflake-connector-python<4.0.0->snowflake-sqlalchemy) (1.15.0)\n",
      "Requirement already satisfied: cryptography<43.0.0,>=3.1.0 in c:\\users\\hp\\appdata\\local\\programs\\python\\python310\\lib\\site-packages (from snowflake-connector-python<4.0.0->snowflake-sqlalchemy) (42.0.8)\n",
      "Requirement already satisfied: pyOpenSSL<25.0.0,>=16.2.0 in c:\\users\\hp\\appdata\\local\\programs\\python\\python310\\lib\\site-packages (from snowflake-connector-python<4.0.0->snowflake-sqlalchemy) (24.1.0)\n",
      "Requirement already satisfied: pyjwt<3.0.0 in c:\\users\\hp\\appdata\\local\\programs\\python\\python310\\lib\\site-packages (from snowflake-connector-python<4.0.0->snowflake-sqlalchemy) (2.8.0)\n",
      "Requirement already satisfied: pytz in c:\\users\\hp\\appdata\\local\\programs\\python\\python310\\lib\\site-packages (from snowflake-connector-python<4.0.0->snowflake-sqlalchemy) (2023.3.post1)\n",
      "Requirement already satisfied: requests<3.0.0 in c:\\users\\hp\\appdata\\local\\programs\\python\\python310\\lib\\site-packages (from snowflake-connector-python<4.0.0->snowflake-sqlalchemy) (2.31.0)\n",
      "Requirement already satisfied: packaging in c:\\users\\hp\\appdata\\local\\programs\\python\\python310\\lib\\site-packages (from snowflake-connector-python<4.0.0->snowflake-sqlalchemy) (21.3)\n",
      "Requirement already satisfied: charset-normalizer<4,>=2 in c:\\users\\hp\\appdata\\local\\programs\\python\\python310\\lib\\site-packages (from snowflake-connector-python<4.0.0->snowflake-sqlalchemy) (3.3.2)\n",
      "Requirement already satisfied: idna<4,>=2.5 in c:\\users\\hp\\appdata\\local\\programs\\python\\python310\\lib\\site-packages (from snowflake-connector-python<4.0.0->snowflake-sqlalchemy) (3.6)\n",
      "Requirement already satisfied: certifi>=2017.4.17 in c:\\users\\hp\\appdata\\local\\programs\\python\\python310\\lib\\site-packages (from snowflake-connector-python<4.0.0->snowflake-sqlalchemy) (2023.11.17)\n",
      "Requirement already satisfied: typing-extensions<5,>=4.3 in c:\\users\\hp\\appdata\\local\\programs\\python\\python310\\lib\\site-packages (from snowflake-connector-python<4.0.0->snowflake-sqlalchemy) (4.9.0)\n",
      "Requirement already satisfied: filelock<4,>=3.5 in c:\\users\\hp\\appdata\\local\\programs\\python\\python310\\lib\\site-packages (from snowflake-connector-python<4.0.0->snowflake-sqlalchemy) (3.14.0)\n",
      "Requirement already satisfied: sortedcontainers>=2.4.0 in c:\\users\\hp\\appdata\\local\\programs\\python\\python310\\lib\\site-packages (from snowflake-connector-python<4.0.0->snowflake-sqlalchemy) (2.4.0)\n",
      "Requirement already satisfied: platformdirs<5.0.0,>=2.6.0 in c:\\users\\hp\\appdata\\local\\programs\\python\\python310\\lib\\site-packages (from snowflake-connector-python<4.0.0->snowflake-sqlalchemy) (4.2.2)\n",
      "Requirement already satisfied: tomlkit in c:\\users\\hp\\appdata\\local\\programs\\python\\python310\\lib\\site-packages (from snowflake-connector-python<4.0.0->snowflake-sqlalchemy) (0.12.5)\n",
      "Requirement already satisfied: greenlet!=0.4.17 in c:\\users\\hp\\appdata\\local\\programs\\python\\python310\\lib\\site-packages (from sqlalchemy<2.0.0,>=1.4.19->snowflake-sqlalchemy) (3.0.3)\n",
      "Requirement already satisfied: pycparser in c:\\users\\hp\\appdata\\local\\programs\\python\\python310\\lib\\site-packages (from cffi<2.0.0,>=1.9->snowflake-connector-python<4.0.0->snowflake-sqlalchemy) (2.21)\n",
      "Requirement already satisfied: urllib3<3,>=1.21.1 in c:\\users\\hp\\appdata\\local\\programs\\python\\python310\\lib\\site-packages (from requests<3.0.0->snowflake-connector-python<4.0.0->snowflake-sqlalchemy) (2.1.0)\n",
      "Requirement already satisfied: pyparsing!=3.0.5,>=2.0.2 in c:\\users\\hp\\appdata\\local\\programs\\python\\python310\\lib\\site-packages (from packaging->snowflake-connector-python<4.0.0->snowflake-sqlalchemy) (3.0.6)\n",
      "Downloading snowflake_sqlalchemy-1.5.3-py3-none-any.whl (42 kB)\n",
      "   ---------------------------------------- 42.4/42.4 kB 1.0 MB/s eta 0:00:00\n",
      "Downloading SQLAlchemy-1.4.52-cp310-cp310-win_amd64.whl (1.6 MB)\n",
      "   ---------------------------------------- 1.6/1.6 MB 11.3 MB/s eta 0:00:00\n",
      "Installing collected packages: sqlalchemy, snowflake-sqlalchemy\n",
      "  Attempting uninstall: sqlalchemy\n",
      "    Found existing installation: SQLAlchemy 2.0.27\n",
      "    Uninstalling SQLAlchemy-2.0.27:\n",
      "      Successfully uninstalled SQLAlchemy-2.0.27\n",
      "Successfully installed snowflake-sqlalchemy-1.5.3 sqlalchemy-1.4.52\n",
      "Note: you may need to restart the kernel to use updated packages.\n"
     ]
    },
    {
     "name": "stderr",
     "output_type": "stream",
     "text": [
      "\n",
      "[notice] A new release of pip is available: 24.0 -> 24.1.1\n",
      "[notice] To update, run: python.exe -m pip install --upgrade pip\n"
     ]
    }
   ],
   "source": [
    "pip install snowflake-sqlalchemy"
   ]
  },
  {
   "cell_type": "code",
   "execution_count": 16,
   "metadata": {},
   "outputs": [],
   "source": [
    "from pyspark.sql import SparkSession\n",
    "\n",
    "# Update these paths to the actual locations of the JAR files\n",
    "jdbc_path = r\"C:\\\\Users\\\\HP\\\\Downloads\\\\snowflake jar files\\\\snowflake-jdbc-3.13.9.jar\"\n",
    "spark_snowflake_path = r\"C:\\\\Users\\\\HP\\\\Downloads\\\\snowflake jar files\\\\spark-snowflake_2.12-2.9.0-spark_3.1.jar\""
   ]
  },
  {
   "cell_type": "code",
   "execution_count": 17,
   "metadata": {},
   "outputs": [],
   "source": [
    "# Create a Spark session\n",
    "spark = SparkSession.builder \\\n",
    "    .appName(\"SnowflakePySpark\") \\\n",
    "    .config(\"spark.jars\", f\"{jdbc_path},{spark_snowflake_path}\") \\\n",
    "    .config(\"spark.executor.extraClassPath\", f\"{jdbc_path};{spark_snowflake_path}\") \\\n",
    "    .config(\"spark.driver.extraClassPath\", f\"{jdbc_path};{spark_snowflake_path}\") \\\n",
    "    .getOrCreate()\n"
   ]
  },
  {
   "cell_type": "code",
   "execution_count": 18,
   "metadata": {},
   "outputs": [],
   "source": [
    "# Snowflake connection options\n",
    "snowflake_options = {\n",
    "    \"sfURL\": \"https://dvpekou-si12121.snowflakecomputing.com\",\n",
    "    \"sfUser\": \"SHIVANIAFK\",\n",
    "    \"sfPassword\": \"Shivani@09\",\n",
    "    \"sfDatabase\": \"Snowflake_database\",\n",
    "    \"sfSchema\": \"Snowflake_schema\",\n",
    "    \"sfWarehouse\": \"my_warehouse\"\n",
    "}"
   ]
  },
  {
   "cell_type": "code",
   "execution_count": 19,
   "metadata": {},
   "outputs": [],
   "source": [
    "# Read data from the modified_HP table\n",
    "df_modified_HP = spark.read \\\n",
    "    .format(\"net.snowflake.spark.snowflake\") \\\n",
    "    .options(**snowflake_options) \\\n",
    "    .option(\"dbtable\", \"modified_HP\") \\\n",
    "    .load()\n"
   ]
  },
  {
   "cell_type": "code",
   "execution_count": 20,
   "metadata": {},
   "outputs": [
    {
     "name": "stdout",
     "output_type": "stream",
     "text": [
      "+---+--------------+----------+------+---------------+-------------------------+--------------------+-----------+-------------+-----------+-----------+-----------------+---------------------+---------------+--------------------------+-----------+---------------+-----------+-------+--------+--------------------+----------------------------+---------+------+-------+---------------+--------------+-----------+------------+-----------+----------------+-----------+---------+--------+----------+----+-----+\n",
      "| SR|          TYPE|MONTH_YEAR|CANADA|ATLANTIC_REGION|NEWFOUNDLAND_AND_LABRADOR|PRINCE_EDWARD_ISLAND|NOVA_SCOTIA|NEW_BRUNSWICK|     QUEBEC|QUEBEC_CITY|SHERBROOKE_QUEBEC|TROIS_RIVIERES_QUEBEC|MONTREAL_QUEBEC|OTTAWA_GATINEAU_QUEBECPART|    ONTARIO|OTTAWA_GATINEAU|     OSHAWA|TORONTO|HAMILTON|STCATHARINES_NIAGARA|KITCHENER_CAMBRIDGE_WATERLOO|   GUELPH|LONDON|WINDSOR|GREATER_SUDBURY|PRAIRIE_REGION|   MANITOBA|SASKATCHEWAN|    ALBERTA|BRITISH_COLUMBIA|    KELOWNA|VANCOUVER|VICTORIA|      DATE|YEAR|MONTH|\n",
      "+---+--------------+----------+------+---------------+-------------------------+--------------------+-----------+-------------+-----------+-----------+-----------------+---------------------+---------------+--------------------------+-----------+---------------+-----------+-------+--------+--------------------+----------------------------+---------+------+-------+---------------+--------------+-----------+------------+-----------+----------------+-----------+---------+--------+----------+----+-----+\n",
      "|  0|House and Land|    Jan-81|  38.2|     76.4260274|              68.10030441|         92.60060606|77.89497717|  88.24939117|75.45479452|       30.1|      102.7920398|          103.3343284|           28.5|               105.7636816|75.83995434|           32.6|107.8014925|   28.0|    30.3|                30.6|                        34.0|109.70199|  31.8|   61.2|           54.7|    66.1434551|64.65936073| 62.91575342|66.33493151|     90.66674277|107.0268657|     90.5|   128.7|1981-01-01|1981|    1|\n",
      "|  1|House and Land|    Feb-81|  38.7|     76.4260274|              68.10030441|         92.60060606|77.89497717|  88.24939117|75.45479452|       30.6|      102.7920398|          103.3343284|           28.8|               105.7636816|75.83995434|           32.6|107.8014925|   28.5|    30.4|                30.8|                        34.1|109.70199|  32.3|   61.2|           55.4|    66.1434551|64.65936073| 62.91575342|66.33493151|     90.66674277|107.0268657|     92.2|   130.1|1981-02-01|1981|    2|\n",
      "|  2|House and Land|    Mar-81|  39.3|     76.4260274|              68.10030441|         92.60060606|77.89497717|  88.24939117|75.45479452|       30.6|      102.7920398|          103.3343284|           29.0|               105.7636816|75.83995434|           33.6|107.8014925|   29.8|    30.7|                30.8|                        34.2|109.70199|  32.8|   60.7|           55.4|    66.1434551|64.65936073| 62.91575342|66.33493151|     90.66674277|107.0268657|     92.2|   130.8|1981-03-01|1981|    3|\n",
      "|  3|House and Land|    Apr-81|  39.9|     76.4260274|              68.10030441|         92.60060606|77.89497717|  88.24939117|75.45479452|       31.0|      102.7920398|          103.3343284|           29.3|               105.7636816|75.83995434|           33.7|107.8014925|   31.2|    31.0|                30.8|                        34.6|109.70199|  33.3|   60.6|           56.9|    66.1434551|64.65936073| 62.91575342|66.33493151|     90.66674277|107.0268657|     91.8|   130.8|1981-04-01|1981|    4|\n",
      "|  4|House and Land|    May-81|  40.6|     76.4260274|              68.10030441|         92.60060606|77.89497717|  88.24939117|75.45479452|       31.4|      102.7920398|          103.3343284|           29.7|               105.7636816|75.83995434|           34.3|107.8014925|   32.3|    32.6|                31.0|                        34.6|109.70199|  33.3|   60.6|           56.9|    66.1434551|64.65936073| 62.91575342|66.33493151|     90.66674277|107.0268657|     91.8|   132.5|1981-05-01|1981|    5|\n",
      "|  5|House and Land|    Jun-81|  40.8|     76.4260274|              68.10030441|         92.60060606|77.89497717|  88.24939117|75.45479452|       31.4|      102.7920398|          103.3343284|           30.0|               105.7636816|75.83995434|           34.8|107.8014925|   32.3|    32.7|                31.2|                        34.9|109.70199|  33.6|   60.6|           57.1|    66.1434551|64.65936073| 62.91575342|66.33493151|     90.66674277|107.0268657|     91.9|   132.8|1981-06-01|1981|    6|\n",
      "|  6|House and Land|    Jul-81|  40.8|     76.4260274|              68.10030441|         92.60060606|77.89497717|  88.24939117|75.45479452|       31.4|      102.7920398|          103.3343284|           30.2|               105.7636816|75.83995434|           34.9|107.8014925|   32.2|    32.7|                31.2|                        34.9|109.70199|  34.1|   60.6|           57.1|    66.1434551|64.65936073| 62.91575342|66.33493151|     90.66674277|107.0268657|     91.8|   130.8|1981-07-01|1981|    7|\n",
      "|  7|House and Land|    Aug-81|  40.6|     76.4260274|              68.10030441|         92.60060606|77.89497717|  88.24939117|75.45479452|       31.6|      102.7920398|          103.3343284|           30.3|               105.7636816|75.83995434|           35.2|107.8014925|   32.5|    32.7|                31.2|                        34.9|109.70199|  34.1|   60.6|           57.2|    66.1434551|64.65936073| 62.91575342|66.33493151|     90.66674277|107.0268657|     87.3|   130.8|1981-08-01|1981|    8|\n",
      "|  8|House and Land|    Sep-81|  40.4|     76.4260274|              68.10030441|         92.60060606|77.89497717|  88.24939117|75.45479452|       31.8|      102.7920398|          103.3343284|           30.7|               105.7636816|75.83995434|           35.2|107.8014925|   32.6|    32.7|                31.2|                        35.0|109.70199|  34.2|   58.3|           57.2|    66.1434551|64.65936073| 62.91575342|66.33493151|     90.66674277|107.0268657|     84.4|   125.2|1981-09-01|1981|    9|\n",
      "|  9|House and Land|    Oct-81|  40.3|     76.4260274|              68.10030441|         92.60060606|77.89497717|  88.24939117|75.45479452|       31.8|      102.7920398|          103.3343284|           31.0|               105.7636816|75.83995434|           35.2|107.8014925|   32.5|    32.7|                31.2|                        35.2|109.70199|  34.2|   58.3|           57.2|    66.1434551|64.65936073| 62.91575342|66.33493151|     90.66674277|107.0268657|     82.4|   124.9|1981-10-01|1981|   10|\n",
      "| 10|House and Land|    Nov-81|  40.2|     76.4260274|              68.10030441|         92.60060606|77.89497717|  88.24939117|75.45479452|       32.0|      102.7920398|          103.3343284|           31.2|               105.7636816|75.83995434|           36.3|107.8014925|   32.5|    32.7|                31.2|                        35.4|109.70199|  34.2|   58.3|           58.2|    66.1434551|64.65936073| 62.91575342|66.33493151|     90.66674277|107.0268657|     78.2|   124.2|1981-11-01|1981|   11|\n",
      "| 11|House and Land|    Dec-81|  40.3|     76.4260274|              68.10030441|         92.60060606|77.89497717|  88.24939117|75.45479452|       32.0|      102.7920398|          103.3343284|           31.5|               105.7636816|75.83995434|           36.3|107.8014925|   32.5|    32.7|                31.2|                        35.4|109.70199|  34.2|   58.3|           58.2|    66.1434551|64.65936073| 62.91575342|66.33493151|     90.66674277|107.0268657|     77.8|   126.0|1981-12-01|1981|   12|\n",
      "| 12|House and Land|    Jan-82|  40.3|     76.4260274|              68.10030441|         92.60060606|77.89497717|  88.24939117|75.45479452|       32.4|      102.7920398|          103.3343284|           32.0|               105.7636816|75.83995434|           36.9|107.8014925|   32.7|    32.7|                31.2|                        35.4|109.70199|  34.2|   58.3|           58.2|    66.1434551|64.65936073| 62.91575342|66.33493151|     90.66674277|107.0268657|     77.5|   126.0|1982-01-01|1982|    1|\n",
      "| 13|House and Land|    Feb-82|  40.3|     76.4260274|              68.10030441|         92.60060606|77.89497717|  88.24939117|75.45479452|       32.7|      102.7920398|          103.3343284|           32.0|               105.7636816|75.83995434|           37.0|107.8014925|   32.4|    33.1|                31.2|                        35.4|109.70199|  34.2|   58.3|           58.5|    66.1434551|64.65936073| 62.91575342|66.33493151|     90.66674277|107.0268657|     76.8|   121.8|1982-02-01|1982|    2|\n",
      "| 14|House and Land|    Mar-82|  40.1|     76.4260274|              68.10030441|         92.60060606|77.89497717|  88.24939117|75.45479452|       32.7|      102.7920398|          103.3343284|           32.1|               105.7636816|75.83995434|           37.2|107.8014925|   32.4|    33.1|                31.2|                        35.4|109.70199|  34.2|   58.3|           58.7|    66.1434551|64.65936073| 62.91575342|66.33493151|     90.66674277|107.0268657|     74.3|   119.0|1982-03-01|1982|    3|\n",
      "| 15|House and Land|    Apr-82|  39.9|     76.4260274|              68.10030441|         92.60060606|77.89497717|  88.24939117|75.45479452|       32.9|      102.7920398|          103.3343284|           32.1|               105.7636816|75.83995434|           37.3|107.8014925|   32.4|    33.1|                31.2|                        35.4|109.70199|  34.2|   58.3|           58.2|    66.1434551|64.65936073| 62.91575342|66.33493151|     90.66674277|107.0268657|     73.1|   117.4|1982-04-01|1982|    4|\n",
      "| 16|House and Land|    May-82|  39.6|     76.4260274|              68.10030441|         92.60060606|77.89497717|  88.24939117|75.45479452|       33.0|      102.7920398|          103.3343284|           32.1|               105.7636816|75.83995434|           37.3|107.8014925|   32.3|    33.1|                31.2|                        35.9|109.70199|  34.3|   57.1|           58.4|    66.1434551|64.65936073| 62.91575342|66.33493151|     90.66674277|107.0268657|     70.6|   116.0|1982-05-01|1982|    5|\n",
      "| 17|House and Land|    Jun-82|  39.3|     76.4260274|              68.10030441|         92.60060606|77.89497717|  88.24939117|75.45479452|       33.0|      102.7920398|          103.3343284|           32.1|               105.7636816|75.83995434|           37.3|107.8014925|   32.1|    34.2|                31.1|                        36.2|109.70199|  34.3|   56.7|           58.4|    66.1434551|64.65936073| 62.91575342|66.33493151|     90.66674277|107.0268657|     68.1|   115.2|1982-06-01|1982|    6|\n",
      "| 18|House and Land|    Jul-82|  39.0|     76.4260274|              68.10030441|         92.60060606|77.89497717|  88.24939117|75.45479452|       33.0|      102.7920398|          103.3343284|           32.3|               105.7636816|75.83995434|           37.3|107.8014925|   32.1|    34.2|                31.1|                        36.2|109.70199|  34.3|   56.7|           58.4|    66.1434551|64.65936073| 62.91575342|66.33493151|     90.66674277|107.0268657|     66.0|   109.4|1982-07-01|1982|    7|\n",
      "| 19|House and Land|    Aug-82|  38.8|     76.4260274|              68.10030441|         92.60060606|77.89497717|  88.24939117|75.45479452|       33.3|      102.7920398|          103.3343284|           32.3|               105.7636816|75.83995434|           37.4|107.8014925|   31.6|    34.2|                31.1|                        36.2|109.70199|  34.3|   56.7|           58.0|    66.1434551|64.65936073| 62.91575342|66.33493151|     90.66674277|107.0268657|     65.5|   109.1|1982-08-01|1982|    8|\n",
      "+---+--------------+----------+------+---------------+-------------------------+--------------------+-----------+-------------+-----------+-----------+-----------------+---------------------+---------------+--------------------------+-----------+---------------+-----------+-------+--------+--------------------+----------------------------+---------+------+-------+---------------+--------------+-----------+------------+-----------+----------------+-----------+---------+--------+----------+----+-----+\n",
      "only showing top 20 rows\n",
      "\n"
     ]
    }
   ],
   "source": [
    "df_modified_HP.show()"
   ]
  },
  {
   "cell_type": "code",
   "execution_count": 27,
   "metadata": {},
   "outputs": [],
   "source": [
    "# Use a simple query to fetch data from Snowflake\n",
    "df_modified_file_inflation_rate = spark.read \\\n",
    "    .format(\"net.snowflake.spark.snowflake\") \\\n",
    "    .options(**snowflake_options) \\\n",
    "    .option(\"query\", \"SELECT * FROM INFLATION_RATE\") \\\n",
    "    .load()"
   ]
  },
  {
   "cell_type": "code",
   "execution_count": 28,
   "metadata": {},
   "outputs": [
    {
     "name": "stdout",
     "output_type": "stream",
     "text": [
      "+----------+------------+----------------+----------------+----+\n",
      "|      DATE|INDINF_CPI_M|INDINF_LOWTARGET|INDINF_UPPTARGET|YEAR|\n",
      "+----------+------------+----------------+----------------+----+\n",
      "|1993-01-01|         2.0|        1.972223|        3.972223|1993|\n",
      "|1993-02-01|         2.4|        1.944445|        3.944445|1993|\n",
      "|1993-03-01|         1.9|        1.916667|        3.916667|1993|\n",
      "|1993-04-01|         1.8|         1.88889|        3.888889|1993|\n",
      "|1993-05-01|         1.9|        1.861112|        3.861111|1993|\n",
      "|1993-06-01|         1.7|        1.833334|        3.833333|1993|\n",
      "|1993-07-01|         1.7|        1.805556|        3.805556|1993|\n",
      "|1993-08-01|         1.8|        1.777778|        3.777778|1993|\n",
      "|1993-09-01|         1.8|        1.750001|            3.75|1993|\n",
      "|1993-10-01|         1.9|        1.722223|        3.722222|1993|\n",
      "|1993-11-01|         1.9|        1.694445|        3.694444|1993|\n",
      "|1993-12-01|         1.7|        1.666667|        3.666666|1993|\n",
      "|1994-01-01|         1.3|        1.638889|        3.638888|1994|\n",
      "|1994-02-01|         0.1|        1.611112|         3.61111|1994|\n",
      "|1994-03-01|         0.2|        1.583334|        3.583332|1994|\n",
      "|1994-04-01|         0.2|        1.555556|        3.555554|1994|\n",
      "|1994-05-01|        -0.2|        1.527778|        3.527776|1994|\n",
      "|1994-06-01|         0.0|             1.5|        3.499999|1994|\n",
      "|1994-07-01|         0.1|        1.472223|        3.472221|1994|\n",
      "|1994-08-01|         0.1|        1.444445|        3.444443|1994|\n",
      "+----------+------------+----------------+----------------+----+\n",
      "only showing top 20 rows\n",
      "\n"
     ]
    }
   ],
   "source": [
    "df_modified_file_inflation_rate.show()"
   ]
  }
 ],
 "metadata": {
  "kernelspec": {
   "display_name": "Python 3",
   "language": "python",
   "name": "python3"
  },
  "language_info": {
   "codemirror_mode": {
    "name": "ipython",
    "version": 3
   },
   "file_extension": ".py",
   "mimetype": "text/x-python",
   "name": "python",
   "nbconvert_exporter": "python",
   "pygments_lexer": "ipython3",
   "version": "3.10.9"
  }
 },
 "nbformat": 4,
 "nbformat_minor": 2
}
